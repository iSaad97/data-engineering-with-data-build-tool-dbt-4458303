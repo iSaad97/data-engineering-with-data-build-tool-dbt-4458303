{
 "cells": [
  {
   "cell_type": "code",
   "execution_count": 2,
   "metadata": {
    "ExecuteTime": {
     "end_time": "2024-06-18T09:48:30.356583700Z",
     "start_time": "2024-06-18T09:48:29.705412100Z"
    }
   },
   "outputs": [],
   "source": [
    "import duckdb\n",
    "import pandas as pd"
   ]
  },
  {
   "cell_type": "code",
   "execution_count": 3,
   "metadata": {
    "ExecuteTime": {
     "end_time": "2024-06-18T09:48:31.016015900Z",
     "start_time": "2024-06-18T09:48:30.994187400Z"
    }
   },
   "outputs": [
    {
     "data": {
      "text/plain": "   violation_code  total_revenue_usd\n0              41                0.0",
      "text/html": "<div>\n<style scoped>\n    .dataframe tbody tr th:only-of-type {\n        vertical-align: middle;\n    }\n\n    .dataframe tbody tr th {\n        vertical-align: top;\n    }\n\n    .dataframe thead th {\n        text-align: right;\n    }\n</style>\n<table border=\"1\" class=\"dataframe\">\n  <thead>\n    <tr style=\"text-align: right;\">\n      <th></th>\n      <th>violation_code</th>\n      <th>total_revenue_usd</th>\n    </tr>\n  </thead>\n  <tbody>\n    <tr>\n      <th>0</th>\n      <td>41</td>\n      <td>0.0</td>\n    </tr>\n  </tbody>\n</table>\n</div>"
     },
     "metadata": {},
     "output_type": "display_data"
    }
   ],
   "source": [
    "sql_query = '''\n",
    "\n",
    "select * from \"nyc_parking_violations\".\"main_dbt_test__audit\".\"violation_codes_revenue\"\n",
    "\n",
    "'''\n",
    "\n",
    "with duckdb.connect('data/nyc_parking_violations.db') as con:\n",
    "    display(con.sql(sql_query).df())"
   ]
  },
  {
   "cell_type": "code",
   "execution_count": 4,
   "metadata": {
    "ExecuteTime": {
     "end_time": "2024-06-18T09:48:33.353428800Z",
     "start_time": "2024-06-18T09:48:32.963694500Z"
    }
   },
   "outputs": [],
   "source": [
    "sql_query_import_1 = '''\n",
    "CREATE OR REPLACE TABLE parking_violation_codes AS\n",
    "SELECT *\n",
    "FROM read_csv_auto(\n",
    "  'data/dof_parking_violation_codes.csv',\n",
    "  normalize_names=True\n",
    "  )\n",
    "'''\n",
    "\n",
    "sql_query_import_2 = '''\n",
    "CREATE OR REPLACE TABLE parking_violations_2023 AS\n",
    "SELECT *\n",
    "FROM read_csv_auto(\n",
    "  'data/parking_violations_issued_fiscal_year_2023_sample.csv',\n",
    "  normalize_names=True\n",
    "  )\n",
    "'''\n",
    "\n",
    "with duckdb.connect('data/nyc_parking_violations.db') as con:\n",
    "  con.sql(sql_query_import_1)\n",
    "  con.sql(sql_query_import_2)\n"
   ]
  },
  {
   "cell_type": "code",
   "execution_count": 5,
   "metadata": {
    "ExecuteTime": {
     "end_time": "2024-06-18T09:48:34.000425Z",
     "start_time": "2024-06-18T09:48:33.962588700Z"
    }
   },
   "outputs": [
    {
     "data": {
      "text/plain": "                              name\n0   bronze_parking_violation_codes\n1        bronze_parking_violations\n2                      first_model\n3              gold_ticket_metrics\n4            gold_vehicles_metrics\n5          parking_violation_codes\n6          parking_violations_2023\n7                        ref_model\n8   silver_parking_violation_codes\n9        silver_parking_violations\n10        silver_violation_tickets\n11       silver_violation_vehicles",
      "text/html": "<div>\n<style scoped>\n    .dataframe tbody tr th:only-of-type {\n        vertical-align: middle;\n    }\n\n    .dataframe tbody tr th {\n        vertical-align: top;\n    }\n\n    .dataframe thead th {\n        text-align: right;\n    }\n</style>\n<table border=\"1\" class=\"dataframe\">\n  <thead>\n    <tr style=\"text-align: right;\">\n      <th></th>\n      <th>name</th>\n    </tr>\n  </thead>\n  <tbody>\n    <tr>\n      <th>0</th>\n      <td>bronze_parking_violation_codes</td>\n    </tr>\n    <tr>\n      <th>1</th>\n      <td>bronze_parking_violations</td>\n    </tr>\n    <tr>\n      <th>2</th>\n      <td>first_model</td>\n    </tr>\n    <tr>\n      <th>3</th>\n      <td>gold_ticket_metrics</td>\n    </tr>\n    <tr>\n      <th>4</th>\n      <td>gold_vehicles_metrics</td>\n    </tr>\n    <tr>\n      <th>5</th>\n      <td>parking_violation_codes</td>\n    </tr>\n    <tr>\n      <th>6</th>\n      <td>parking_violations_2023</td>\n    </tr>\n    <tr>\n      <th>7</th>\n      <td>ref_model</td>\n    </tr>\n    <tr>\n      <th>8</th>\n      <td>silver_parking_violation_codes</td>\n    </tr>\n    <tr>\n      <th>9</th>\n      <td>silver_parking_violations</td>\n    </tr>\n    <tr>\n      <th>10</th>\n      <td>silver_violation_tickets</td>\n    </tr>\n    <tr>\n      <th>11</th>\n      <td>silver_violation_vehicles</td>\n    </tr>\n  </tbody>\n</table>\n</div>"
     },
     "metadata": {},
     "output_type": "display_data"
    }
   ],
   "source": [
    "sql_query = '''\n",
    "show tables\n",
    "'''\n",
    "\n",
    "with duckdb.connect('data/nyc_parking_violations.db') as con:\n",
    "    display(con.sql(sql_query).df())\n"
   ]
  },
  {
   "cell_type": "code",
   "execution_count": 7,
   "outputs": [],
   "source": [
    "sql_query_import_1 = '''\n",
    "CREATE OR REPLACE TABLE parking_violation_codes AS\n",
    "SELECT *\n",
    "FROM read_csv_auto(\n",
    "  'data/dof_parking_violation_codes.csv',\n",
    "  normalize_names=True\n",
    "  )\n",
    "'''\n",
    "\n",
    "sql_query_import_2 = '''\n",
    "CREATE OR REPLACE TABLE parking_violations_2023 AS\n",
    "SELECT *\n",
    "FROM read_csv_auto(\n",
    "  'data/parking_violations_issued_fiscal_year_2023_sample.csv',\n",
    "  normalize_names=True\n",
    "  )\n",
    "'''\n",
    "\n",
    "with duckdb.connect('data/prod_nyc_parking_violations.db') as con:\n",
    "  con.sql(sql_query_import_1)\n",
    "  con.sql(sql_query_import_2)\n"
   ],
   "metadata": {
    "collapsed": false,
    "ExecuteTime": {
     "end_time": "2024-06-18T09:49:53.639234Z",
     "start_time": "2024-06-18T09:49:53.142636600Z"
    }
   }
  },
  {
   "cell_type": "code",
   "execution_count": 9,
   "metadata": {
    "ExecuteTime": {
     "end_time": "2024-06-18T09:52:38.191774100Z",
     "start_time": "2024-06-18T09:52:38.020957700Z"
    }
   },
   "outputs": [
    {
     "data": {
      "text/plain": "                             name\n0  bronze_parking_violation_codes\n1       bronze_parking_violations\n2             gold_ticket_metrics\n3           gold_vehicles_metrics\n4         parking_violation_codes\n5         parking_violations_2023\n6        silver_violation_tickets\n7       silver_violation_vehicles",
      "text/html": "<div>\n<style scoped>\n    .dataframe tbody tr th:only-of-type {\n        vertical-align: middle;\n    }\n\n    .dataframe tbody tr th {\n        vertical-align: top;\n    }\n\n    .dataframe thead th {\n        text-align: right;\n    }\n</style>\n<table border=\"1\" class=\"dataframe\">\n  <thead>\n    <tr style=\"text-align: right;\">\n      <th></th>\n      <th>name</th>\n    </tr>\n  </thead>\n  <tbody>\n    <tr>\n      <th>0</th>\n      <td>bronze_parking_violation_codes</td>\n    </tr>\n    <tr>\n      <th>1</th>\n      <td>bronze_parking_violations</td>\n    </tr>\n    <tr>\n      <th>2</th>\n      <td>gold_ticket_metrics</td>\n    </tr>\n    <tr>\n      <th>3</th>\n      <td>gold_vehicles_metrics</td>\n    </tr>\n    <tr>\n      <th>4</th>\n      <td>parking_violation_codes</td>\n    </tr>\n    <tr>\n      <th>5</th>\n      <td>parking_violations_2023</td>\n    </tr>\n    <tr>\n      <th>6</th>\n      <td>silver_violation_tickets</td>\n    </tr>\n    <tr>\n      <th>7</th>\n      <td>silver_violation_vehicles</td>\n    </tr>\n  </tbody>\n</table>\n</div>"
     },
     "metadata": {},
     "output_type": "display_data"
    }
   ],
   "source": [
    "sql_query = '''\n",
    "show tables\n",
    "'''\n",
    "\n",
    "with duckdb.connect('data/prod_nyc_parking_violations.db') as con:\n",
    "    display(con.sql(sql_query).df())\n"
   ]
  }
 ],
 "metadata": {
  "kernelspec": {
   "display_name": "Python 3",
   "language": "python",
   "name": "python3"
  },
  "language_info": {
   "codemirror_mode": {
    "name": "ipython",
    "version": 3
   },
   "file_extension": ".py",
   "mimetype": "text/x-python",
   "name": "python",
   "nbconvert_exporter": "python",
   "pygments_lexer": "ipython3",
   "version": "3.10.12"
  },
  "orig_nbformat": 4,
  "vscode": {
   "interpreter": {
    "hash": "31f2aee4e71d21fbe5cf8b01ff0e069b9275f58929596ceb00d14d90e3e16cd6"
   }
  }
 },
 "nbformat": 4,
 "nbformat_minor": 2
}
